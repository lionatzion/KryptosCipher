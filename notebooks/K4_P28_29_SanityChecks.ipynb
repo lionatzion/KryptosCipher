{
  "cells": [
    {
      "cell_type": "markdown",
      "metadata": {},
      "source": "# P=28/29 Sanity Checks"
    },
    {
      "cell_type": "markdown",
      "metadata": {},
      "source": "Quick one\u2011offs to ensure alternatives don\u2019t beat the P=27 baseline."
    },
    {
      "cell_type": "code",
      "execution_count": null,
      "metadata": {},
      "outputs": [],
      "source": "import os, sys, subprocess, pathlib\nfor period in (28, 29):\n    print(f\"\\n=== Testing period {period} ===\")\n    outdir = pathlib.Path(\"out\") / f\"p{period}\"\n    outdir.mkdir(parents=True, exist_ok=True)\n    cmd = [sys.executable, \"kryptos_k4_p27_sweep.py\", \"--period\", str(period), \"--outdir\", str(outdir), \"--topn\", \"100\"]\n    print(\"Running:\", \" \".join(cmd))\n    subprocess.run(cmd, check=True)\nprint(\"\\nDone. Compare scores in the CSVs against P=27.\")"
    }
  ],
  "metadata": {
    "kernelspec": {
      "display_name": "Python 3",
      "language": "python",
      "name": "python3"
    },
    "language_info": {
      "name": "python",
      "version": ""
    }
  },
  "nbformat": 4,
  "nbformat_minor": 5
}