{
  "cells": [
    {
      "cell_type": "markdown",
      "metadata": {},
      "source": "# Review Top Candidates"
    },
    {
      "cell_type": "markdown",
      "metadata": {},
      "source": "Load JSON/CSV exports and inspect windows around the islands."
    },
    {
      "cell_type": "code",
      "execution_count": null,
      "metadata": {},
      "outputs": [],
      "source": "import json, csv, pathlib\nout = pathlib.Path(\"out\")\njson_path = out / \"k4_top10_summary.json\"\ncsv_path  = out / \"k4_top100_candidates_light.csv\"\nif json_path.exists():\n    data = json.loads(json_path.read_text())\n    print(f\"Top-10 rows: {len(data)}\")\n    for row in data[:3]:\n        print(f\"rank={row['rank']} score={row['score']}\")\n        print(\"keystream_27:\", row['keystream_27'])\n        print(\"plaintext[20:40]:\", row['plaintext'][20:40])\n        print(\"plaintext[60:80]:\", row['plaintext'][60:80])\n        print(\"---\")\nelse:\n    print(\"Missing\", json_path)\nif csv_path.exists():\n    print(\"\\nCSV head:\")\n    with open(csv_path, newline=\"\") as f:\n        for i, row in enumerate(csv.DictReader(f)):\n            print(row)\n            if i >= 4: break\nelse:\n    print(\"Missing\", csv_path)"
    }
  ],
  "metadata": {
    "kernelspec": {
      "display_name": "Python 3",
      "language": "python",
      "name": "python3"
    },
    "language_info": {
      "name": "python",
      "version": ""
    }
  },
  "nbformat": 4,
  "nbformat_minor": 5
}