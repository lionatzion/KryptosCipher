{
  "cells": [
    {
      "cell_type": "markdown",
      "metadata": {},
      "source": "# K4 Period\u201127 Sweep (baseline)"
    },
    {
      "cell_type": "markdown",
      "metadata": {},
      "source": "Runs `kryptos_k4_p27_sweep.py` with anchors and A\u2011enforcement, writing JSON/CSV to `out/`."
    },
    {
      "cell_type": "code",
      "execution_count": null,
      "metadata": {},
      "outputs": [],
      "source": "import os, sys, subprocess, pathlib\nrepo_root = pathlib.Path(\".\").resolve()\noutdir = repo_root / \"out\"\noutdir.mkdir(exist_ok=True)\ncmd = [sys.executable, \"kryptos_k4_p27_sweep.py\", \"--outdir\", str(outdir), \"--topn\", \"100\"]\nprint(\"Running:\", \" \".join(cmd))\nsubprocess.run(cmd, check=True)\nprint(\"\\nWrote:\")\nfor p in (outdir / \"k4_top10_summary.json\", outdir / \"k4_top100_candidates_light.csv\"):\n    print(\"-\", p, \"(exists:\", p.exists(), \")\")"
    }
  ],
  "metadata": {
    "kernelspec": {
      "display_name": "Python 3",
      "language": "python",
      "name": "python3"
    },
    "language_info": {
      "name": "python",
      "version": ""
    }
  },
  "nbformat": 4,
  "nbformat_minor": 5
}